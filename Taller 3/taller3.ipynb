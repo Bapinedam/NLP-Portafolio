{
 "cells": [
  {
   "cell_type": "markdown",
   "metadata": {},
   "source": [
    "<img src='https://encrypted-tbn0.gstatic.com/images?q=tbn%3AANd9GcQ-VfNtOyJbsaxu43Kztf_cv1mgBG6ZIQZEVw&usqp=CAU'>\n",
    "\n",
    "# Procesamiento de Lenguaje Natural\n",
    "\n",
    "## Taller #3: Web Scraping\n",
    "`Fecha de entrega: Marzo 11, 2021. (Antes del inicio de la próxima clase).`"
   ]
  },
  {
   "cell_type": "markdown",
   "metadata": {},
   "source": [
    "# Punto 1:\n",
    "\n",
    "- `[15 pts]` Hacer Web Scraping de 10 animales en Wikipedia (en búcle)\n",
    "- `[10 pts]` Obtener el **encabezado** de cada animal\n",
    "- `[15 pts]` Obtener todos los **textos** que están en las etiquetas de negrilla del primer párrafo."
   ]
  },
  {
   "cell_type": "code",
   "execution_count": 183,
   "metadata": {},
   "outputs": [],
   "source": [
    "import bs4 as bs \n",
    "import urllib.request\n",
    "import pandas as pd\n",
    "import re"
   ]
  },
  {
   "cell_type": "code",
   "execution_count": 135,
   "metadata": {},
   "outputs": [],
   "source": [
    "# Crear una lista con animales que me gusten\n",
    "\n",
    "animales = [\"narval\", \"leon\", \"tardigrado\", \"medusas\", \"conejo\", \"tigre\", \"vaca\", \"perro\", \"chicharra\", \"chiguiro\"]"
   ]
  },
  {
   "cell_type": "code",
   "execution_count": 136,
   "metadata": {
    "scrolled": false
   },
   "outputs": [
    {
     "data": {
      "text/plain": [
       "10"
      ]
     },
     "execution_count": 136,
     "metadata": {},
     "output_type": "execute_result"
    }
   ],
   "source": [
    "#Creamos un vector que nos almacene cada uno de los resultados en una lista, esto por medio de un loop\n",
    "\n",
    "source = []\n",
    "for _ in animales:\n",
    "    base = \"https://es.wikipedia.org/wiki/\"\n",
    "    link = base + _\n",
    "    request = urllib.request.Request(link, headers={'User-Agent': 'Mozilla/5.0'})\n",
    "    webpage = urllib.request.urlopen(request)\n",
    "    a = webpage.read()\n",
    "    source.append(a)\n",
    "webpage.close()"
   ]
  },
  {
   "cell_type": "code",
   "execution_count": 142,
   "metadata": {},
   "outputs": [
    {
     "data": {
      "text/plain": [
       "['Monodon monoceros',\n",
       " 'Panthera leo',\n",
       " 'Tardigrada',\n",
       " 'Medusozoa',\n",
       " 'Oryctolagus cuniculus',\n",
       " 'Panthera tigris',\n",
       " 'Bos primigenius taurus',\n",
       " 'Canis familiaris',\n",
       " 'Cicadidae',\n",
       " 'Hydrochoerus hydrochaeris']"
      ]
     },
     "execution_count": 142,
     "metadata": {},
     "output_type": "execute_result"
    }
   ],
   "source": [
    "titulos = []\n",
    "for _ in source:\n",
    "    soup = bs.BeautifulSoup(_, 'html.parser')\n",
    "    top = soup.find(\"body\").find(\"h1\").text\n",
    "    titulos.append(top)\n",
    "# titulos"
   ]
  },
  {
   "cell_type": "code",
   "execution_count": 199,
   "metadata": {},
   "outputs": [],
   "source": [
    "nombres = []\n",
    "for _ in source:\n",
    "    soup = bs.BeautifulSoup(_, 'html.parser')\n",
    "    primer_parrafo = soup.find(\"body\").find(\"p\")\n",
    "    negritas = primer_parrafo.find_all(\"b\")\n",
    "    a = []\n",
    "    for n in range(0,len(negritas)):\n",
    "        a.append(negritas[n].text)\n",
    "    nombres.append(a)\n",
    "# nombres"
   ]
  },
  {
   "cell_type": "code",
   "execution_count": 181,
   "metadata": {},
   "outputs": [
    {
     "data": {
      "text/html": [
       "<div>\n",
       "<style scoped>\n",
       "    .dataframe tbody tr th:only-of-type {\n",
       "        vertical-align: middle;\n",
       "    }\n",
       "\n",
       "    .dataframe tbody tr th {\n",
       "        vertical-align: top;\n",
       "    }\n",
       "\n",
       "    .dataframe thead th {\n",
       "        text-align: right;\n",
       "    }\n",
       "</style>\n",
       "<table border=\"1\" class=\"dataframe\">\n",
       "  <thead>\n",
       "    <tr style=\"text-align: right;\">\n",
       "      <th></th>\n",
       "      <th>Animal</th>\n",
       "      <th>Nombre científico</th>\n",
       "      <th>Otros nombres</th>\n",
       "    </tr>\n",
       "  </thead>\n",
       "  <tbody>\n",
       "    <tr>\n",
       "      <th>0</th>\n",
       "      <td>narval</td>\n",
       "      <td>Monodon monoceros</td>\n",
       "      <td>[narval, Monodon monoceros]</td>\n",
       "    </tr>\n",
       "    <tr>\n",
       "      <th>1</th>\n",
       "      <td>leon</td>\n",
       "      <td>Panthera leo</td>\n",
       "      <td>[león, Panthera leo]</td>\n",
       "    </tr>\n",
       "    <tr>\n",
       "      <th>2</th>\n",
       "      <td>tardigrado</td>\n",
       "      <td>Tardigrada</td>\n",
       "      <td>[tardígrados, Tardigrada, osos de agua]</td>\n",
       "    </tr>\n",
       "    <tr>\n",
       "      <th>3</th>\n",
       "      <td>medusas</td>\n",
       "      <td>Medusozoa</td>\n",
       "      <td>[medusas, Medusozoa, aguamalas, malaguas, agua...</td>\n",
       "    </tr>\n",
       "    <tr>\n",
       "      <th>4</th>\n",
       "      <td>conejo</td>\n",
       "      <td>Oryctolagus cuniculus</td>\n",
       "      <td>[conejo común, conejo europeo , Oryctolagus cu...</td>\n",
       "    </tr>\n",
       "    <tr>\n",
       "      <th>5</th>\n",
       "      <td>tigre</td>\n",
       "      <td>Panthera tigris</td>\n",
       "      <td>[tigre, Panthera tigris]</td>\n",
       "    </tr>\n",
       "    <tr>\n",
       "      <th>6</th>\n",
       "      <td>vaca</td>\n",
       "      <td>Bos primigenius taurus</td>\n",
       "      <td>[vaca, toro, Bos primigenius taurus]</td>\n",
       "    </tr>\n",
       "    <tr>\n",
       "      <th>7</th>\n",
       "      <td>perro</td>\n",
       "      <td>Canis familiaris</td>\n",
       "      <td>[perro, Canis familiaris, Canis lupus familiar...</td>\n",
       "    </tr>\n",
       "    <tr>\n",
       "      <th>8</th>\n",
       "      <td>chicharra</td>\n",
       "      <td>Cicadidae</td>\n",
       "      <td>[cicádidos, Cicadidae, cigarras, chicharras, c...</td>\n",
       "    </tr>\n",
       "    <tr>\n",
       "      <th>9</th>\n",
       "      <td>chiguiro</td>\n",
       "      <td>Hydrochoerus hydrochaeris</td>\n",
       "      <td>[Hydrochoerus hydrochaeris, capibara, carpinch...</td>\n",
       "    </tr>\n",
       "  </tbody>\n",
       "</table>\n",
       "</div>"
      ],
      "text/plain": [
       "       Animal          Nombre científico  \\\n",
       "0      narval          Monodon monoceros   \n",
       "1        leon               Panthera leo   \n",
       "2  tardigrado                 Tardigrada   \n",
       "3     medusas                  Medusozoa   \n",
       "4      conejo      Oryctolagus cuniculus   \n",
       "5       tigre            Panthera tigris   \n",
       "6        vaca     Bos primigenius taurus   \n",
       "7       perro           Canis familiaris   \n",
       "8   chicharra                  Cicadidae   \n",
       "9    chiguiro  Hydrochoerus hydrochaeris   \n",
       "\n",
       "                                       Otros nombres  \n",
       "0                        [narval, Monodon monoceros]  \n",
       "1                               [león, Panthera leo]  \n",
       "2            [tardígrados, Tardigrada, osos de agua]  \n",
       "3  [medusas, Medusozoa, aguamalas, malaguas, agua...  \n",
       "4  [conejo común, conejo europeo , Oryctolagus cu...  \n",
       "5                           [tigre, Panthera tigris]  \n",
       "6               [vaca, toro, Bos primigenius taurus]  \n",
       "7  [perro, Canis familiaris, Canis lupus familiar...  \n",
       "8  [cicádidos, Cicadidae, cigarras, chicharras, c...  \n",
       "9  [Hydrochoerus hydrochaeris, capibara, carpinch...  "
      ]
     },
     "execution_count": 181,
     "metadata": {},
     "output_type": "execute_result"
    }
   ],
   "source": [
    "tabla = {\"Animal\" : animales, \"Nombre científico\" : titulos, \"Otros nombres\" : nombres}\n",
    "df = pd.DataFrame(tabla)\n",
    "df"
   ]
  },
  {
   "cell_type": "markdown",
   "metadata": {},
   "source": [
    "# Punto 2:\n",
    "- `[10 pts]` Usando regex, reemplazar todas las caracteres especiales del punto anterior (palabras en negrilla) por un asterisco (¡Ojo, los espacios se quedan!)\n"
   ]
  },
  {
   "cell_type": "code",
   "execution_count": 203,
   "metadata": {},
   "outputs": [
    {
     "data": {
      "text/plain": [
       "[['narval', 'Monodon monoceros'],\n",
       " ['le*n', 'Panthera leo'],\n",
       " ['tard*grados', 'Tardigrada', 'osos de agua'],\n",
       " ['medusas',\n",
       "  'Medusozoa',\n",
       "  'aguamalas',\n",
       "  'malaguas',\n",
       "  'aguavivas',\n",
       "  'aguacuajito,',\n",
       "  'aguacuajada,',\n",
       "  'l*grimas de mar'],\n",
       " ['conejo com*n', 'conejo europeo ', 'Oryctolagus cuniculus'],\n",
       " ['tigre', 'Panthera tigris'],\n",
       " ['vaca', 'toro', 'Bos primigenius taurus'],\n",
       " ['perro',\n",
       "  'Canis familiaris',\n",
       "  'Canis lupus familiaris',\n",
       "  'perro dom*stico',\n",
       "  'can',\n",
       "  'chucho',\n",
       "  'tuso',\n",
       "  'choco'],\n",
       " ['cic*didos',\n",
       "  'Cicadidae',\n",
       "  'cigarras',\n",
       "  'chicharras',\n",
       "  'coyoyos',\n",
       "  'chiquilichis',\n",
       "  'tococos',\n",
       "  'cocoras',\n",
       "  'cogollos',\n",
       "  '*es',\n",
       "  'c*cadas',\n",
       "  '*akyr*'],\n",
       " ['Hydrochoerus hydrochaeris', 'capibara', 'carpincho', 'chig*ire']]"
      ]
     },
     "execution_count": 203,
     "metadata": {},
     "output_type": "execute_result"
    }
   ],
   "source": [
    "for i in range(0, len(nombres)):\n",
    "    # re.sub(r\"[a-zA-Z]\", \"*\", _)\n",
    "    for j in range(0, len(nombres[i])):\n",
    "        nombres[i][j] = re.sub(\"[:áéíóúñüã:]\", \"*\", nombres[i][j])\n",
    "nombres"
   ]
  }
 ],
 "metadata": {
  "kernelspec": {
   "display_name": "Python 3",
   "language": "python",
   "name": "python3"
  },
  "language_info": {
   "codemirror_mode": {
    "name": "ipython",
    "version": 3
   },
   "file_extension": ".py",
   "mimetype": "text/x-python",
   "name": "python",
   "nbconvert_exporter": "python",
   "pygments_lexer": "ipython3",
   "version": "3.8.5"
  }
 },
 "nbformat": 4,
 "nbformat_minor": 2
}

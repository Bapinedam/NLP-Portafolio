{
 "cells": [
  {
   "cell_type": "markdown",
   "metadata": {},
   "source": [
    "<img src='https://encrypted-tbn0.gstatic.com/images?q=tbn%3AANd9GcQ-VfNtOyJbsaxu43Kztf_cv1mgBG6ZIQZEVw&usqp=CAU'>\n",
    "\n",
    "# Procesamiento de Lenguage Natural\n",
    "\n",
    "## Taller #2: Adquisición de textos\n",
    "`Fecha de entrega: Marzo 4, 2021. (Antes del inicio de la próxima clase).`"
   ]
  },
  {
   "cell_type": "markdown",
   "metadata": {},
   "source": [
    "# Punto 1:\n",
    "\n",
    "- `[18 pts]` Descomprimir el archivo `.zip` de `python_books`\n",
    "- `[22 pts]` Leer cada uno de sus archivos\n",
    "- `[10 pts]` Responder: ¿Cuál archivo tiene el mayor número de palabras?"
   ]
  },
  {
   "cell_type": "code",
   "execution_count": 15,
   "metadata": {},
   "outputs": [],
   "source": [
    "import zipfile\n",
    "import fitz\n",
    "import os"
   ]
  },
  {
   "cell_type": "markdown",
   "metadata": {},
   "source": [
    "1. Lo primero es conocer el contenido del archivo .zip"
   ]
  },
  {
   "cell_type": "code",
   "execution_count": 16,
   "metadata": {
    "scrolled": true
   },
   "outputs": [
    {
     "name": "stdout",
     "output_type": "stream",
     "text": [
      "python_books/\n",
      "python_books/Python - Finance.pdf\n",
      "__MACOSX/python_books/._Python - Finance.pdf\n",
      "python_books/Python  Data Science Cookbook.pdf\n",
      "__MACOSX/python_books/._Python  Data Science Cookbook.pdf\n",
      "python_books/Python - AWS.pdf\n",
      "__MACOSX/python_books/._Python - AWS.pdf\n"
     ]
    },
    {
     "data": {
      "text/plain": [
       "[None, None, None, None, None, None, None]"
      ]
     },
     "execution_count": 16,
     "metadata": {},
     "output_type": "execute_result"
    }
   ],
   "source": [
    "with zipfile.ZipFile('python_books.zip', 'r') as f:\n",
    "    names = f.namelist()\n",
    "[print(name) for name in names]"
   ]
  },
  {
   "cell_type": "markdown",
   "metadata": {},
   "source": [
    "2. Luego descomprimimos el archivo"
   ]
  },
  {
   "cell_type": "code",
   "execution_count": 19,
   "metadata": {},
   "outputs": [],
   "source": [
    "zipfilename = \"python_books.zip\"\n",
    "password = None\n",
    "\n",
    "z = zipfile.ZipFile(zipfilename, \"r\")\n",
    "\n",
    "try:\n",
    "    z.extractall(pwd=password)\n",
    "except:\n",
    "    print('Error')\n",
    "    pass"
   ]
  },
  {
   "cell_type": "markdown",
   "metadata": {},
   "source": [
    "Ya sabemos que el .zip contenía dos carpeta y estas a su vez tres archivos cada uno, sin embargo sólo nos interesa la ruta \"python_books/...\""
   ]
  },
  {
   "cell_type": "code",
   "execution_count": 59,
   "metadata": {},
   "outputs": [
    {
     "name": "stdout",
     "output_type": "stream",
     "text": [
      "El archivo <<Python  Data Science Cookbook.pdf>> tiene 3371 páginas\n",
      "El archivo <<Python - AWS.pdf>> tiene 1820 páginas\n",
      "El archivo <<Python - Finance.pdf>> tiene 1345 páginas\n"
     ]
    }
   ],
   "source": [
    "lista = os.listdir(\"./python_books\")\n",
    "for archivo in lista:\n",
    "    general = os.getcwd()\n",
    "    os.chdir(\"./python_books/\")\n",
    "    pdf_file1 = archivo\n",
    "    pdf = fitz.open(pdf_file1)\n",
    "    pagina = pdf.loadPage(0)\n",
    "    texto = pagina.getText(\"text\")\n",
    "    print(f'El archivo <<{archivo}>> tiene {len(texto)} páginas')\n",
    "    os.chdir(general)"
   ]
  },
  {
   "cell_type": "markdown",
   "metadata": {},
   "source": [
    "El archivo \"Python  Data Science Cookbook.pdf\" es el que tiene más palabras."
   ]
  }
 ],
 "metadata": {
  "kernelspec": {
   "display_name": "Python 3",
   "language": "python",
   "name": "python3"
  },
  "language_info": {
   "codemirror_mode": {
    "name": "ipython",
    "version": 3
   },
   "file_extension": ".py",
   "mimetype": "text/x-python",
   "name": "python",
   "nbconvert_exporter": "python",
   "pygments_lexer": "ipython3",
   "version": "3.8.5"
  }
 },
 "nbformat": 4,
 "nbformat_minor": 2
}
